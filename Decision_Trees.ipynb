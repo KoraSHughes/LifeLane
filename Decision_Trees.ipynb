{
  "cells": [
    {
      "cell_type": "code",
      "execution_count": 1,
      "metadata": {
        "id": "ZOrNCqAer_fo"
      },
      "outputs": [],
      "source": [
        "import pandas as pd\n",
        "\n",
        "zip_code_data = pd.read_csv('example_streets.csv')"
      ]
    },
    {
      "cell_type": "code",
      "execution_count": 2,
      "metadata": {
        "colab": {
          "base_uri": "https://localhost:8080/",
          "height": 860
        },
        "id": "fSqoySPLreH2",
        "outputId": "c8c37d39-0dd0-4352-9675-571a1c456c5d"
      },
      "outputs": [
        {
          "name": "stdout",
          "output_type": "stream",
          "text": [
            "Index(['cad_incident_id', 'incident_datetime', 'initial_call_type',\n",
            "       'initial_severity_level_code', 'final_call_type',\n",
            "       'final_severity_level_code', 'first_assignment_datetime',\n",
            "       'valid_dispatch_rspns_time_indc', 'dispatch_response_seconds_qy',\n",
            "       'first_activation_datetime', 'first_on_scene_datetime',\n",
            "       'valid_incident_rspns_time_indc', 'incident_response_seconds_qy',\n",
            "       'incident_travel_tm_seconds_qy', 'incident_close_datetime',\n",
            "       'held_indicator', 'incident_disposition_code', 'borough',\n",
            "       'incident_dispatch_area', 'zipcode', 'policeprecinct',\n",
            "       'citycouncildistrict', 'communitydistrict', 'communityschooldistrict',\n",
            "       'congressionaldistrict', 'reopen_indicator', 'special_event_indicator',\n",
            "       'standby_indicator', 'transfer_indicator', 'first_to_hosp_datetime',\n",
            "       'first_hosp_arrival_datetime'],\n",
            "      dtype='object')\n"
          ]
        },
        {
          "data": {
            "text/html": [
              "<div>\n",
              "<style scoped>\n",
              "    .dataframe tbody tr th:only-of-type {\n",
              "        vertical-align: middle;\n",
              "    }\n",
              "\n",
              "    .dataframe tbody tr th {\n",
              "        vertical-align: top;\n",
              "    }\n",
              "\n",
              "    .dataframe thead th {\n",
              "        text-align: right;\n",
              "    }\n",
              "</style>\n",
              "<table border=\"1\" class=\"dataframe\">\n",
              "  <thead>\n",
              "    <tr style=\"text-align: right;\">\n",
              "      <th></th>\n",
              "      <th>cad_incident_id</th>\n",
              "      <th>incident_datetime</th>\n",
              "      <th>initial_call_type</th>\n",
              "      <th>initial_severity_level_code</th>\n",
              "      <th>final_call_type</th>\n",
              "      <th>final_severity_level_code</th>\n",
              "      <th>first_assignment_datetime</th>\n",
              "      <th>valid_dispatch_rspns_time_indc</th>\n",
              "      <th>dispatch_response_seconds_qy</th>\n",
              "      <th>first_activation_datetime</th>\n",
              "      <th>...</th>\n",
              "      <th>citycouncildistrict</th>\n",
              "      <th>communitydistrict</th>\n",
              "      <th>communityschooldistrict</th>\n",
              "      <th>congressionaldistrict</th>\n",
              "      <th>reopen_indicator</th>\n",
              "      <th>special_event_indicator</th>\n",
              "      <th>standby_indicator</th>\n",
              "      <th>transfer_indicator</th>\n",
              "      <th>first_to_hosp_datetime</th>\n",
              "      <th>first_hosp_arrival_datetime</th>\n",
              "    </tr>\n",
              "  </thead>\n",
              "  <tbody>\n",
              "    <tr>\n",
              "      <th>0</th>\n",
              "      <td>232734990</td>\n",
              "      <td>2023-09-30T23:54:27.000</td>\n",
              "      <td>UNKNOW</td>\n",
              "      <td>4</td>\n",
              "      <td>ARREST</td>\n",
              "      <td>1</td>\n",
              "      <td>2023-09-30T23:57:56.000</td>\n",
              "      <td>Y</td>\n",
              "      <td>209</td>\n",
              "      <td>2023-09-30T23:58:09.000</td>\n",
              "      <td>...</td>\n",
              "      <td>9.0</td>\n",
              "      <td>110.0</td>\n",
              "      <td>3.0</td>\n",
              "      <td>13.0</td>\n",
              "      <td>N</td>\n",
              "      <td>N</td>\n",
              "      <td>N</td>\n",
              "      <td>N</td>\n",
              "      <td>NaN</td>\n",
              "      <td>NaN</td>\n",
              "    </tr>\n",
              "    <tr>\n",
              "      <th>1</th>\n",
              "      <td>232734895</td>\n",
              "      <td>2023-09-30T23:23:01.000</td>\n",
              "      <td>DRUG</td>\n",
              "      <td>4</td>\n",
              "      <td>DRUG</td>\n",
              "      <td>4</td>\n",
              "      <td>2023-09-30T23:23:15.000</td>\n",
              "      <td>Y</td>\n",
              "      <td>14</td>\n",
              "      <td>2023-09-30T23:24:46.000</td>\n",
              "      <td>...</td>\n",
              "      <td>21.0</td>\n",
              "      <td>403.0</td>\n",
              "      <td>30.0</td>\n",
              "      <td>14.0</td>\n",
              "      <td>N</td>\n",
              "      <td>N</td>\n",
              "      <td>N</td>\n",
              "      <td>N</td>\n",
              "      <td>2023-09-30T23:49:49.000</td>\n",
              "      <td>2023-09-30T23:56:00.000</td>\n",
              "    </tr>\n",
              "    <tr>\n",
              "      <th>2</th>\n",
              "      <td>232734800</td>\n",
              "      <td>2023-09-30T23:02:45.000</td>\n",
              "      <td>ALTMEN</td>\n",
              "      <td>3</td>\n",
              "      <td>ALTMEN</td>\n",
              "      <td>3</td>\n",
              "      <td>2023-09-30T23:03:04.000</td>\n",
              "      <td>Y</td>\n",
              "      <td>19</td>\n",
              "      <td>2023-09-30T23:04:08.000</td>\n",
              "      <td>...</td>\n",
              "      <td>13.0</td>\n",
              "      <td>210.0</td>\n",
              "      <td>11.0</td>\n",
              "      <td>14.0</td>\n",
              "      <td>N</td>\n",
              "      <td>N</td>\n",
              "      <td>N</td>\n",
              "      <td>N</td>\n",
              "      <td>2023-09-30T23:28:49.000</td>\n",
              "      <td>2023-09-30T23:39:00.000</td>\n",
              "    </tr>\n",
              "    <tr>\n",
              "      <th>3</th>\n",
              "      <td>232734705</td>\n",
              "      <td>2023-09-30T22:41:58.000</td>\n",
              "      <td>INJURY</td>\n",
              "      <td>5</td>\n",
              "      <td>INJURY</td>\n",
              "      <td>5</td>\n",
              "      <td>2023-09-30T22:48:13.000</td>\n",
              "      <td>Y</td>\n",
              "      <td>375</td>\n",
              "      <td>2023-09-30T22:48:42.000</td>\n",
              "      <td>...</td>\n",
              "      <td>33.0</td>\n",
              "      <td>302.0</td>\n",
              "      <td>13.0</td>\n",
              "      <td>8.0</td>\n",
              "      <td>N</td>\n",
              "      <td>N</td>\n",
              "      <td>N</td>\n",
              "      <td>N</td>\n",
              "      <td>NaN</td>\n",
              "      <td>NaN</td>\n",
              "    </tr>\n",
              "    <tr>\n",
              "      <th>4</th>\n",
              "      <td>232734610</td>\n",
              "      <td>2023-09-30T22:19:32.000</td>\n",
              "      <td>UNC</td>\n",
              "      <td>2</td>\n",
              "      <td>UNC</td>\n",
              "      <td>2</td>\n",
              "      <td>2023-09-30T22:19:39.000</td>\n",
              "      <td>Y</td>\n",
              "      <td>7</td>\n",
              "      <td>2023-09-30T22:20:10.000</td>\n",
              "      <td>...</td>\n",
              "      <td>11.0</td>\n",
              "      <td>212.0</td>\n",
              "      <td>11.0</td>\n",
              "      <td>16.0</td>\n",
              "      <td>N</td>\n",
              "      <td>N</td>\n",
              "      <td>N</td>\n",
              "      <td>N</td>\n",
              "      <td>NaN</td>\n",
              "      <td>NaN</td>\n",
              "    </tr>\n",
              "    <tr>\n",
              "      <th>...</th>\n",
              "      <td>...</td>\n",
              "      <td>...</td>\n",
              "      <td>...</td>\n",
              "      <td>...</td>\n",
              "      <td>...</td>\n",
              "      <td>...</td>\n",
              "      <td>...</td>\n",
              "      <td>...</td>\n",
              "      <td>...</td>\n",
              "      <td>...</td>\n",
              "      <td>...</td>\n",
              "      <td>...</td>\n",
              "      <td>...</td>\n",
              "      <td>...</td>\n",
              "      <td>...</td>\n",
              "      <td>...</td>\n",
              "      <td>...</td>\n",
              "      <td>...</td>\n",
              "      <td>...</td>\n",
              "      <td>...</td>\n",
              "      <td>...</td>\n",
              "    </tr>\n",
              "    <tr>\n",
              "      <th>243974</th>\n",
              "      <td>70362225</td>\n",
              "      <td>2007-02-05T15:24:06.000</td>\n",
              "      <td>UNC</td>\n",
              "      <td>2</td>\n",
              "      <td>UNC</td>\n",
              "      <td>2</td>\n",
              "      <td>2007-02-05T15:25:06.000</td>\n",
              "      <td>Y</td>\n",
              "      <td>60</td>\n",
              "      <td>2007-02-05T15:25:24.000</td>\n",
              "      <td>...</td>\n",
              "      <td>27.0</td>\n",
              "      <td>412.0</td>\n",
              "      <td>29.0</td>\n",
              "      <td>5.0</td>\n",
              "      <td>N</td>\n",
              "      <td>N</td>\n",
              "      <td>N</td>\n",
              "      <td>N</td>\n",
              "      <td>2007-02-05T15:41:42.000</td>\n",
              "      <td>2007-02-05T15:48:44.000</td>\n",
              "    </tr>\n",
              "    <tr>\n",
              "      <th>243975</th>\n",
              "      <td>70362130</td>\n",
              "      <td>2007-02-05T14:59:06.000</td>\n",
              "      <td>INJURY</td>\n",
              "      <td>5</td>\n",
              "      <td>INJURY</td>\n",
              "      <td>5</td>\n",
              "      <td>2007-02-05T15:04:30.000</td>\n",
              "      <td>Y</td>\n",
              "      <td>324</td>\n",
              "      <td>2007-02-05T15:04:40.000</td>\n",
              "      <td>...</td>\n",
              "      <td>1.0</td>\n",
              "      <td>101.0</td>\n",
              "      <td>2.0</td>\n",
              "      <td>10.0</td>\n",
              "      <td>N</td>\n",
              "      <td>N</td>\n",
              "      <td>N</td>\n",
              "      <td>N</td>\n",
              "      <td>NaN</td>\n",
              "      <td>NaN</td>\n",
              "    </tr>\n",
              "    <tr>\n",
              "      <th>243976</th>\n",
              "      <td>70361940</td>\n",
              "      <td>2007-02-05T14:08:24.000</td>\n",
              "      <td>OTHER</td>\n",
              "      <td>6</td>\n",
              "      <td>OTHER</td>\n",
              "      <td>6</td>\n",
              "      <td>2007-02-05T14:09:01.000</td>\n",
              "      <td>Y</td>\n",
              "      <td>37</td>\n",
              "      <td>2007-02-05T14:09:06.000</td>\n",
              "      <td>...</td>\n",
              "      <td>4.0</td>\n",
              "      <td>108.0</td>\n",
              "      <td>2.0</td>\n",
              "      <td>12.0</td>\n",
              "      <td>N</td>\n",
              "      <td>N</td>\n",
              "      <td>N</td>\n",
              "      <td>N</td>\n",
              "      <td>NaN</td>\n",
              "      <td>NaN</td>\n",
              "    </tr>\n",
              "    <tr>\n",
              "      <th>243977</th>\n",
              "      <td>70361845</td>\n",
              "      <td>2007-02-05T13:39:17.000</td>\n",
              "      <td>RESPIR</td>\n",
              "      <td>4</td>\n",
              "      <td>DIFFBR</td>\n",
              "      <td>2</td>\n",
              "      <td>2007-02-05T13:40:16.000</td>\n",
              "      <td>Y</td>\n",
              "      <td>59</td>\n",
              "      <td>2007-02-05T13:40:21.000</td>\n",
              "      <td>...</td>\n",
              "      <td>NaN</td>\n",
              "      <td>NaN</td>\n",
              "      <td>NaN</td>\n",
              "      <td>NaN</td>\n",
              "      <td>N</td>\n",
              "      <td>N</td>\n",
              "      <td>N</td>\n",
              "      <td>N</td>\n",
              "      <td>2007-02-05T13:57:57.000</td>\n",
              "      <td>2007-02-05T14:00:43.000</td>\n",
              "    </tr>\n",
              "    <tr>\n",
              "      <th>243978</th>\n",
              "      <td>70361750</td>\n",
              "      <td>2007-02-05T13:05:33.000</td>\n",
              "      <td>EDP</td>\n",
              "      <td>7</td>\n",
              "      <td>EDP</td>\n",
              "      <td>7</td>\n",
              "      <td>2007-02-05T13:05:54.000</td>\n",
              "      <td>Y</td>\n",
              "      <td>21</td>\n",
              "      <td>2007-02-05T13:06:14.000</td>\n",
              "      <td>...</td>\n",
              "      <td>32.0</td>\n",
              "      <td>409.0</td>\n",
              "      <td>27.0</td>\n",
              "      <td>7.0</td>\n",
              "      <td>N</td>\n",
              "      <td>N</td>\n",
              "      <td>N</td>\n",
              "      <td>N</td>\n",
              "      <td>2007-02-05T13:23:45.000</td>\n",
              "      <td>2007-02-05T13:36:27.000</td>\n",
              "    </tr>\n",
              "  </tbody>\n",
              "</table>\n",
              "<p>243979 rows × 31 columns</p>\n",
              "</div>"
            ],
            "text/plain": [
              "        cad_incident_id        incident_datetime initial_call_type  \\\n",
              "0             232734990  2023-09-30T23:54:27.000            UNKNOW   \n",
              "1             232734895  2023-09-30T23:23:01.000              DRUG   \n",
              "2             232734800  2023-09-30T23:02:45.000            ALTMEN   \n",
              "3             232734705  2023-09-30T22:41:58.000            INJURY   \n",
              "4             232734610  2023-09-30T22:19:32.000               UNC   \n",
              "...                 ...                      ...               ...   \n",
              "243974         70362225  2007-02-05T15:24:06.000               UNC   \n",
              "243975         70362130  2007-02-05T14:59:06.000            INJURY   \n",
              "243976         70361940  2007-02-05T14:08:24.000             OTHER   \n",
              "243977         70361845  2007-02-05T13:39:17.000            RESPIR   \n",
              "243978         70361750  2007-02-05T13:05:33.000               EDP   \n",
              "\n",
              "        initial_severity_level_code final_call_type  \\\n",
              "0                                 4          ARREST   \n",
              "1                                 4            DRUG   \n",
              "2                                 3          ALTMEN   \n",
              "3                                 5          INJURY   \n",
              "4                                 2             UNC   \n",
              "...                             ...             ...   \n",
              "243974                            2             UNC   \n",
              "243975                            5          INJURY   \n",
              "243976                            6           OTHER   \n",
              "243977                            4          DIFFBR   \n",
              "243978                            7             EDP   \n",
              "\n",
              "        final_severity_level_code first_assignment_datetime  \\\n",
              "0                               1   2023-09-30T23:57:56.000   \n",
              "1                               4   2023-09-30T23:23:15.000   \n",
              "2                               3   2023-09-30T23:03:04.000   \n",
              "3                               5   2023-09-30T22:48:13.000   \n",
              "4                               2   2023-09-30T22:19:39.000   \n",
              "...                           ...                       ...   \n",
              "243974                          2   2007-02-05T15:25:06.000   \n",
              "243975                          5   2007-02-05T15:04:30.000   \n",
              "243976                          6   2007-02-05T14:09:01.000   \n",
              "243977                          2   2007-02-05T13:40:16.000   \n",
              "243978                          7   2007-02-05T13:05:54.000   \n",
              "\n",
              "       valid_dispatch_rspns_time_indc  dispatch_response_seconds_qy  \\\n",
              "0                                   Y                           209   \n",
              "1                                   Y                            14   \n",
              "2                                   Y                            19   \n",
              "3                                   Y                           375   \n",
              "4                                   Y                             7   \n",
              "...                               ...                           ...   \n",
              "243974                              Y                            60   \n",
              "243975                              Y                           324   \n",
              "243976                              Y                            37   \n",
              "243977                              Y                            59   \n",
              "243978                              Y                            21   \n",
              "\n",
              "       first_activation_datetime  ... citycouncildistrict communitydistrict  \\\n",
              "0        2023-09-30T23:58:09.000  ...                 9.0             110.0   \n",
              "1        2023-09-30T23:24:46.000  ...                21.0             403.0   \n",
              "2        2023-09-30T23:04:08.000  ...                13.0             210.0   \n",
              "3        2023-09-30T22:48:42.000  ...                33.0             302.0   \n",
              "4        2023-09-30T22:20:10.000  ...                11.0             212.0   \n",
              "...                          ...  ...                 ...               ...   \n",
              "243974   2007-02-05T15:25:24.000  ...                27.0             412.0   \n",
              "243975   2007-02-05T15:04:40.000  ...                 1.0             101.0   \n",
              "243976   2007-02-05T14:09:06.000  ...                 4.0             108.0   \n",
              "243977   2007-02-05T13:40:21.000  ...                 NaN               NaN   \n",
              "243978   2007-02-05T13:06:14.000  ...                32.0             409.0   \n",
              "\n",
              "        communityschooldistrict  congressionaldistrict reopen_indicator  \\\n",
              "0                           3.0                   13.0                N   \n",
              "1                          30.0                   14.0                N   \n",
              "2                          11.0                   14.0                N   \n",
              "3                          13.0                    8.0                N   \n",
              "4                          11.0                   16.0                N   \n",
              "...                         ...                    ...              ...   \n",
              "243974                     29.0                    5.0                N   \n",
              "243975                      2.0                   10.0                N   \n",
              "243976                      2.0                   12.0                N   \n",
              "243977                      NaN                    NaN                N   \n",
              "243978                     27.0                    7.0                N   \n",
              "\n",
              "       special_event_indicator  standby_indicator transfer_indicator  \\\n",
              "0                            N                  N                  N   \n",
              "1                            N                  N                  N   \n",
              "2                            N                  N                  N   \n",
              "3                            N                  N                  N   \n",
              "4                            N                  N                  N   \n",
              "...                        ...                ...                ...   \n",
              "243974                       N                  N                  N   \n",
              "243975                       N                  N                  N   \n",
              "243976                       N                  N                  N   \n",
              "243977                       N                  N                  N   \n",
              "243978                       N                  N                  N   \n",
              "\n",
              "         first_to_hosp_datetime first_hosp_arrival_datetime  \n",
              "0                           NaN                         NaN  \n",
              "1       2023-09-30T23:49:49.000     2023-09-30T23:56:00.000  \n",
              "2       2023-09-30T23:28:49.000     2023-09-30T23:39:00.000  \n",
              "3                           NaN                         NaN  \n",
              "4                           NaN                         NaN  \n",
              "...                         ...                         ...  \n",
              "243974  2007-02-05T15:41:42.000     2007-02-05T15:48:44.000  \n",
              "243975                      NaN                         NaN  \n",
              "243976                      NaN                         NaN  \n",
              "243977  2007-02-05T13:57:57.000     2007-02-05T14:00:43.000  \n",
              "243978  2007-02-05T13:23:45.000     2007-02-05T13:36:27.000  \n",
              "\n",
              "[243979 rows x 31 columns]"
            ]
          },
          "execution_count": 2,
          "metadata": {},
          "output_type": "execute_result"
        }
      ],
      "source": [
        "ems_src = \"https://data.cityofnewyork.us/resource/76xm-jjuj.json?$limit=243979&%24where=cad_incident_id%20%25%2095%20%3D%200\"\n",
        "ems_df = pd.read_json(ems_src)\n",
        "print(ems_df.columns)\n",
        "ems_df"
      ]
    },
    {
      "cell_type": "code",
      "execution_count": 3,
      "metadata": {
        "id": "wCWFtle6wF9z"
      },
      "outputs": [],
      "source": [
        "ems_df=ems_df[['incident_datetime','incident_travel_tm_seconds_qy','zipcode']]"
      ]
    },
    {
      "cell_type": "code",
      "execution_count": 4,
      "metadata": {
        "colab": {
          "base_uri": "https://localhost:8080/"
        },
        "id": "kmgiSKSRsrCf",
        "outputId": "6b21f1c2-328a-4366-f400-21dbcf265c46"
      },
      "outputs": [
        {
          "name": "stdout",
          "output_type": "stream",
          "text": [
            "Index(['id', 'segmentid', 'roadway_name', 'from', 'to', 'direction', 'date',\n",
            "       '_12_00_1_00_am', '_1_00_2_00am', '_2_00_3_00am', '_3_00_4_00am',\n",
            "       '_4_00_5_00am', '_5_00_6_00am', '_6_00_7_00am', '_7_00_8_00am',\n",
            "       '_8_00_9_00am', '_9_00_10_00am', '_10_00_11_00am', '_11_00_12_00pm',\n",
            "       '_12_00_1_00pm', '_1_00_2_00pm', '_2_00_3_00pm', '_3_00_4_00pm',\n",
            "       '_4_00_5_00pm', '_5_00_6_00pm', '_6_00_7_00pm', '_7_00_8_00pm',\n",
            "       '_8_00_9_00pm', '_9_00_10_00pm', '_10_00_11_00pm', '_11_00_12_00am'],\n",
            "      dtype='object')\n"
          ]
        }
      ],
      "source": [
        "traffic_src = \"https://data.cityofnewyork.us/resource/btm5-ppia.json?$limit=42800\"\n",
        "traffic_df = pd.read_json(traffic_src)\n",
        "traffic_df[\"date\"] = pd.to_datetime(traffic_df[\"date\"])\n",
        "print(traffic_df.columns)"
      ]
    },
    {
      "cell_type": "code",
      "execution_count": 5,
      "metadata": {
        "id": "Ujj3YoWR7U7x"
      },
      "outputs": [],
      "source": [
        "traffic_df=traffic_df[['id', 'segmentid','roadway_name','from', 'to', 'direction', 'date','_9_00_10_00am']]"
      ]
    },
    {
      "cell_type": "code",
      "execution_count": 6,
      "metadata": {
        "id": "I29ypcSIuPD9"
      },
      "outputs": [],
      "source": [
        "traffic_df['roadway_name']= traffic_df['roadway_name'].str.lower()"
      ]
    },
    {
      "cell_type": "code",
      "execution_count": 7,
      "metadata": {
        "id": "kubuhJ1itO8J"
      },
      "outputs": [],
      "source": [
        "zip_code_data = zip_code_data.rename(columns={'streets':'roadway_name'})"
      ]
    },
    {
      "cell_type": "code",
      "execution_count": 8,
      "metadata": {},
      "outputs": [
        {
          "name": "stdout",
          "output_type": "stream",
          "text": [
            "(895, 2)\n",
            "(42756, 8)\n"
          ]
        }
      ],
      "source": [
        "print(zip_code_data.shape)\n",
        "print(traffic_df.shape)"
      ]
    },
    {
      "cell_type": "code",
      "execution_count": 9,
      "metadata": {
        "colab": {
          "base_uri": "https://localhost:8080/"
        },
        "id": "lJJk5bMKrCKq",
        "outputId": "00290286-2ae9-46a8-b59f-fe98272537c9"
      },
      "outputs": [
        {
          "name": "stdout",
          "output_type": "stream",
          "text": [
            "(42756, 9)\n"
          ]
        }
      ],
      "source": [
        "import pandas as pd\n",
        "\n",
        "# Read the traffic data and zip code data\n",
        "traffic_data = traffic_df\n",
        "\n",
        "# Assuming the column names for street names are 'roadway_name' in both dataframes\n",
        "\n",
        "# Merge the datasets based on the 'roadway_name' column\n",
        "merged_data = pd.merge(traffic_data, zip_code_data, on='roadway_name', how='left')\n",
        "\n",
        "# Display the merged data to check the mapping\n",
        "print(merged_data.shape)"
      ]
    },
    {
      "cell_type": "code",
      "execution_count": 12,
      "metadata": {
        "colab": {
          "base_uri": "https://localhost:8080/"
        },
        "id": "ggNfiP7qut82",
        "outputId": "2e3375d4-f9c0-4659-ab38-f31030329a54"
      },
      "outputs": [
        {
          "name": "stdout",
          "output_type": "stream",
          "text": [
            "Number of null values in each column:\n",
            "id               0\n",
            "segmentid        0\n",
            "roadway_name     0\n",
            "from             0\n",
            "to               0\n",
            "direction        0\n",
            "date             0\n",
            "_9_00_10_00am    0\n",
            "zipcodes         0\n",
            "dtype: int64\n"
          ]
        }
      ],
      "source": [
        "import pandas as pd\n",
        "\n",
        "# Assuming 'traffic_data.csv' contains your DataFrame\n",
        "\n",
        "# Calculate the number of null values in each column\n",
        "null_counts = merged_data.isnull().sum()\n",
        "\n",
        "# Display the number of null values for each column\n",
        "print(\"Number of null values in each column:\")\n",
        "print(null_counts)"
      ]
    },
    {
      "cell_type": "code",
      "execution_count": 11,
      "metadata": {
        "id": "Ta1r5B0fybrA"
      },
      "outputs": [],
      "source": [
        "ems_df = ems_df.dropna()\n",
        "merged_data = merged_data.dropna()"
      ]
    },
    {
      "cell_type": "code",
      "execution_count": 13,
      "metadata": {
        "id": "E4sh86XyzMjj"
      },
      "outputs": [],
      "source": [
        "# Assuming 'column_name' is the column in your DataFrame that contains values with commas\n",
        "\n",
        "# Remove commas and convert the column to integers\n",
        "ems_df[\"zipcode\"] = ems_df[\"zipcode\"].str.replace(\",\",\"\").astype(float)"
      ]
    },
    {
      "cell_type": "code",
      "execution_count": 14,
      "metadata": {
        "id": "k_D8h2T3wQHI"
      },
      "outputs": [],
      "source": [
        "merged_data = merged_data.rename(columns={'zipcodes':'zipcode'})"
      ]
    },
    {
      "cell_type": "code",
      "execution_count": 15,
      "metadata": {},
      "outputs": [],
      "source": [
        "ems_df['zipcode'] = ems_df['zipcode'].astype(int).astype(str)\n",
        "merged_data['zipcode'] = merged_data['zipcode'].astype(int).astype(str)"
      ]
    },
    {
      "cell_type": "code",
      "execution_count": 16,
      "metadata": {},
      "outputs": [
        {
          "name": "stdout",
          "output_type": "stream",
          "text": [
            "object\n",
            "object\n"
          ]
        }
      ],
      "source": [
        "print(ems_df['zipcode'].dtype)\n",
        "print(merged_data['zipcode'].dtype)"
      ]
    },
    {
      "cell_type": "code",
      "execution_count": 17,
      "metadata": {},
      "outputs": [
        {
          "name": "stdout",
          "output_type": "stream",
          "text": [
            "0         10026\n",
            "1         11372\n",
            "2         10461\n",
            "3         11201\n",
            "4         10470\n",
            "          ...  \n",
            "243973    10012\n",
            "243974    11432\n",
            "243975    10004\n",
            "243976    10021\n",
            "243978    11418\n",
            "Name: zipcode, Length: 231156, dtype: object\n",
            "0        10304\n",
            "1        10304\n",
            "2        10304\n",
            "3        10304\n",
            "4        10304\n",
            "         ...  \n",
            "42742    10451\n",
            "42743    10451\n",
            "42744    10451\n",
            "42745    10451\n",
            "42746    10451\n",
            "Name: zipcode, Length: 38861, dtype: object\n"
          ]
        }
      ],
      "source": [
        "print(ems_df['zipcode'])\n",
        "print(merged_data['zipcode'])"
      ]
    },
    {
      "cell_type": "code",
      "execution_count": 18,
      "metadata": {},
      "outputs": [],
      "source": [
        "ems_df['zipcode'] = ems_df['zipcode'].str.strip()\n",
        "merged_data['zipcode'] = merged_data['zipcode'].str.strip()"
      ]
    },
    {
      "cell_type": "code",
      "execution_count": 19,
      "metadata": {},
      "outputs": [
        {
          "name": "stdout",
          "output_type": "stream",
          "text": [
            "(231156, 3)\n",
            "(38861, 9)\n"
          ]
        }
      ],
      "source": [
        "print(ems_df.shape)\n",
        "print(merged_data.shape)"
      ]
    },
    {
      "cell_type": "code",
      "execution_count": 20,
      "metadata": {},
      "outputs": [
        {
          "name": "stdout",
          "output_type": "stream",
          "text": [
            "         incident_datetime  incident_travel_tm_seconds_qy zipcode\n",
            "0  2023-09-30T23:54:27.000                          219.0   10026\n",
            "1  2023-09-30T23:23:01.000                          902.0   11372\n",
            "2  2023-09-30T23:02:45.000                          487.0   10461\n",
            "3  2023-09-30T22:41:58.000                         1363.0   11201\n",
            "4  2023-09-30T22:19:32.000                          579.0   10470\n",
            "   id  segmentid  roadway_name         from                to direction  \\\n",
            "0   1      15540  beach street  UNION PLACE  VAN DUZER STREET        NB   \n",
            "1   2      15540  beach street  UNION PLACE  VAN DUZER STREET        NB   \n",
            "2   3      15540  beach street  UNION PLACE  VAN DUZER STREET        NB   \n",
            "3   4      15540  beach street  UNION PLACE  VAN DUZER STREET        NB   \n",
            "4   5      15540  beach street  UNION PLACE  VAN DUZER STREET        NB   \n",
            "\n",
            "        date  _9_00_10_00am zipcode  \n",
            "0 2012-01-09           52.0   10304  \n",
            "1 2012-01-10           45.0   10304  \n",
            "2 2012-01-11           71.0   10304  \n",
            "3 2012-01-12           66.0   10304  \n",
            "4 2012-01-13           64.0   10304  \n"
          ]
        }
      ],
      "source": [
        "print(ems_df.head())\n",
        "print(merged_data.head())"
      ]
    },
    {
      "cell_type": "code",
      "execution_count": 21,
      "metadata": {},
      "outputs": [
        {
          "name": "stdout",
          "output_type": "stream",
          "text": [
            "object\n",
            "object\n"
          ]
        }
      ],
      "source": [
        "ems_df['incident_datetime'] = pd.to_datetime(ems_df['incident_datetime']).dt.date\n",
        "\n",
        "# Convert the 'date' column to datetime format\n",
        "merged_data['date'] = pd.to_datetime(merged_data['date']).dt.date\n",
        "\n",
        "print(ems_df['incident_datetime'].dtype)\n",
        "print(merged_data['date'].dtype)\n",
        "\n",
        "# Merge dataframes based on the date columns\n",
        "#merged_df = pd.merge(df1, df2, left_on=df1['incident_datetime'].dt.date, right_on=df2['date'], how='inner')\n"
      ]
    },
    {
      "cell_type": "code",
      "execution_count": 22,
      "metadata": {
        "id": "V8U3kdXZ4_GZ"
      },
      "outputs": [],
      "source": [
        "merged_data_final = pd.merge(ems_df, merged_data, how='left',left_on=['zipcode','incident_datetime'], right_on=['zipcode','date'])"
      ]
    },
    {
      "cell_type": "code",
      "execution_count": 23,
      "metadata": {},
      "outputs": [],
      "source": [
        "merged_data_zip = pd.merge(ems_df, merged_data, how='left',left_on=['zipcode'], right_on=['zipcode'])"
      ]
    },
    {
      "cell_type": "code",
      "execution_count": 24,
      "metadata": {},
      "outputs": [],
      "source": [
        "common_date = pd.merge(ems_df, merged_data, left_on=['incident_datetime'], right_on=['date'], how='inner')"
      ]
    },
    {
      "cell_type": "code",
      "execution_count": 25,
      "metadata": {},
      "outputs": [
        {
          "name": "stdout",
          "output_type": "stream",
          "text": [
            "        incident_datetime  incident_travel_tm_seconds_qy zipcode_x   id  \\\n",
            "0              2021-05-09                          474.0     11210   31   \n",
            "1              2021-05-09                          474.0     11210   54   \n",
            "2              2021-05-09                          474.0     11210   54   \n",
            "3              2021-05-09                          474.0     11210   66   \n",
            "4              2021-05-09                          474.0     11210   66   \n",
            "...                   ...                            ...       ...  ...   \n",
            "1472594        2012-01-08                          278.0     10002  342   \n",
            "1472595        2012-01-08                          278.0     10002  371   \n",
            "1472596        2012-01-08                          278.0     10002  377   \n",
            "1472597        2012-01-08                          278.0     10002  388   \n",
            "1472598        2012-01-08                          278.0     10002  394   \n",
            "\n",
            "         segmentid    roadway_name          from               to direction  \\\n",
            "0            32775         4th ave      E 9th St        E 10th St        NB   \n",
            "1            41813      albany ave   Farragut Rd      Glenwood Rd        NB   \n",
            "2            41813      albany ave   Farragut Rd      Glenwood Rd        SB   \n",
            "3             3017       arden ave  Stafford Ave     Sinclair Ave        EB   \n",
            "4             3017       arden ave  Stafford Ave     Sinclair Ave        WB   \n",
            "...            ...             ...           ...              ...       ...   \n",
            "1472594      29256  washington ave     GATES AVE        FULTON ST        SB   \n",
            "1472595      29555   fulton avenue  CLAVER PLACE  FRANKLIN AVENUE        EB   \n",
            "1472596      29555   fulton avenue  CLAVER PLACE  FRANKLIN AVENUE        WB   \n",
            "1472597     184214           3 ave    PACIFIC ST          DEAN ST        NB   \n",
            "1472598     184214           3 ave    PACIFIC ST          DEAN ST        SB   \n",
            "\n",
            "               date  _9_00_10_00am zipcode_y  \n",
            "0        2021-05-09          187.0     11209  \n",
            "1        2021-05-09          181.0     11213  \n",
            "2        2021-05-09          173.0     11213  \n",
            "3        2021-05-09          312.0     10312  \n",
            "4        2021-05-09          317.0     10312  \n",
            "...             ...            ...       ...  \n",
            "1472594  2012-01-08           73.0     10040  \n",
            "1472595  2012-01-08          188.0     10456  \n",
            "1472596  2012-01-08          192.0     10456  \n",
            "1472597  2012-01-08          151.0     11420  \n",
            "1472598  2012-01-08           39.0     11420  \n",
            "\n",
            "[1472599 rows x 12 columns]\n"
          ]
        }
      ],
      "source": [
        "print(common_date)"
      ]
    },
    {
      "cell_type": "code",
      "execution_count": 26,
      "metadata": {},
      "outputs": [
        {
          "name": "stdout",
          "output_type": "stream",
          "text": [
            "       incident_datetime  incident_travel_tm_seconds_qy zipcode  id  \\\n",
            "0             2023-09-30                          219.0   10026 NaN   \n",
            "1             2023-09-30                          902.0   11372 NaN   \n",
            "2             2023-09-30                          487.0   10461 NaN   \n",
            "3             2023-09-30                         1363.0   11201 NaN   \n",
            "4             2023-09-30                          579.0   10470 NaN   \n",
            "...                  ...                            ...     ...  ..   \n",
            "238544        2007-02-05                          387.0   10012 NaN   \n",
            "238545        2007-02-05                          633.0   11432 NaN   \n",
            "238546        2007-02-05                          493.0   10004 NaN   \n",
            "238547        2007-02-05                          536.0   10021 NaN   \n",
            "238548        2007-02-05                          530.0   11418 NaN   \n",
            "\n",
            "        segmentid roadway_name from   to direction date  _9_00_10_00am  \n",
            "0             NaN          NaN  NaN  NaN       NaN  NaN            NaN  \n",
            "1             NaN          NaN  NaN  NaN       NaN  NaN            NaN  \n",
            "2             NaN          NaN  NaN  NaN       NaN  NaN            NaN  \n",
            "3             NaN          NaN  NaN  NaN       NaN  NaN            NaN  \n",
            "4             NaN          NaN  NaN  NaN       NaN  NaN            NaN  \n",
            "...           ...          ...  ...  ...       ...  ...            ...  \n",
            "238544        NaN          NaN  NaN  NaN       NaN  NaN            NaN  \n",
            "238545        NaN          NaN  NaN  NaN       NaN  NaN            NaN  \n",
            "238546        NaN          NaN  NaN  NaN       NaN  NaN            NaN  \n",
            "238547        NaN          NaN  NaN  NaN       NaN  NaN            NaN  \n",
            "238548        NaN          NaN  NaN  NaN       NaN  NaN            NaN  \n",
            "\n",
            "[238549 rows x 11 columns]\n"
          ]
        }
      ],
      "source": [
        "from pprint import pprint\n",
        "pprint(merged_data_final)"
      ]
    },
    {
      "cell_type": "code",
      "execution_count": 27,
      "metadata": {},
      "outputs": [
        {
          "name": "stdout",
          "output_type": "stream",
          "text": [
            "         incident_datetime  incident_travel_tm_seconds_qy zipcode      id  \\\n",
            "0               2023-09-30                          219.0   10026   269.0   \n",
            "1               2023-09-30                          219.0   10026   275.0   \n",
            "2               2023-09-30                          219.0   10026   393.0   \n",
            "3               2023-09-30                          219.0   10026   399.0   \n",
            "4               2023-09-30                          219.0   10026  2798.0   \n",
            "...                    ...                            ...     ...     ...   \n",
            "65042181        2007-02-05                          530.0   11418   203.0   \n",
            "65042182        2007-02-05                          530.0   11418   203.0   \n",
            "65042183        2007-02-05                          530.0   11418   203.0   \n",
            "65042184        2007-02-05                          530.0   11418   203.0   \n",
            "65042185        2007-02-05                          530.0   11418   203.0   \n",
            "\n",
            "          segmentid        roadway_name               from  \\\n",
            "0          122461.0               8 ave          BUTLER ST   \n",
            "1          122461.0               8 ave          BUTLER ST   \n",
            "2          184214.0               8 ave         PACIFIC ST   \n",
            "3          184214.0               8 ave         PACIFIC ST   \n",
            "4           83650.0          114 street  ASTORIA BOULEVARD   \n",
            "...             ...                 ...                ...   \n",
            "65042181    56138.0  lefferts boulevard         103 AVENUE   \n",
            "65042182    56138.0  lefferts boulevard         103 AVENUE   \n",
            "65042183    56138.0  lefferts boulevard         103 AVENUE   \n",
            "65042184    56138.0  lefferts boulevard         103 AVENUE   \n",
            "65042185    56138.0  lefferts boulevard         103 AVENUE   \n",
            "\n",
            "                          to direction        date  _9_00_10_00am  \n",
            "0                 DOUGLAS ST        NB  2012-01-13          508.0  \n",
            "1                 DOUGLAS ST        SB  2012-01-13          245.0  \n",
            "2                    DEAN ST        NB  2012-01-13          532.0  \n",
            "3                    DEAN ST        SB  2012-01-13          145.0  \n",
            "4         NORTHERN BOULEVARD        SB  2012-01-30           72.0  \n",
            "...                      ...       ...         ...            ...  \n",
            "65042181          101 AVENUE        SB  2015-11-20          153.0  \n",
            "65042182          101 AVENUE        NB  2015-11-21          119.0  \n",
            "65042183          101 AVENUE        SB  2015-11-21          219.0  \n",
            "65042184          101 AVENUE        NB  2015-11-22          105.0  \n",
            "65042185          101 AVENUE        SB  2015-11-22          136.0  \n",
            "\n",
            "[65042186 rows x 11 columns]\n"
          ]
        }
      ],
      "source": [
        "pprint(merged_data_zip)"
      ]
    },
    {
      "cell_type": "markdown",
      "metadata": {
        "id": "DWI348rS8QqQ"
      },
      "source": [
        "\n",
        "\n",
        "---\n",
        "\n"
      ]
    },
    {
      "cell_type": "code",
      "execution_count": null,
      "metadata": {
        "id": "G0mNyEAa0FpM"
      },
      "outputs": [],
      "source": [
        "# Set display options to show all rows and columns\n",
        "#pd.set_option('display.max_columns', None)  # Show all columns\n",
        "\n",
        "# Print the entire DataFrame\n",
        "#ems_df.to_csv( \"/content/ems_df.csv\")"
      ]
    },
    {
      "cell_type": "code",
      "execution_count": null,
      "metadata": {
        "id": "pjhS8C-11a_I"
      },
      "outputs": [],
      "source": []
    },
    {
      "cell_type": "code",
      "execution_count": null,
      "metadata": {
        "colab": {
          "base_uri": "https://localhost:8080/"
        },
        "id": "0_QjX04xuFx0",
        "outputId": "f24e8929-81a2-4236-f1ec-0204fe400e66"
      },
      "outputs": [],
      "source": [
        "print(data.head())\n",
        "import numpy as np\n",
        "# Set the seed for reproducibility\n",
        "np.random.seed(42)\n",
        "\n",
        "# Split the data into 80% training and 20% testing\n",
        "# Shuffle the indices\n",
        "shuffled_indices = np.random.permutation(len(data))\n",
        "\n",
        "# Calculate the split index\n",
        "split_index = int(0.8 * len(data))\n",
        "\n",
        "# Split the indices into training and testing sets\n",
        "train_indices = shuffled_indices[:split_index]\n",
        "test_indices = shuffled_indices[split_index:]\n",
        "\n",
        "# Create the training and testing dataframes\n",
        "train_df = data.loc[train_indices]\n",
        "test_df = data.loc[test_indices]\n",
        "\n",
        "# Verify the shape of the training and testing data\n",
        "print(\"Training data shape:\", train_df.shape)\n",
        "print(\"Testing data shape:\", test_df.shape)"
      ]
    },
    {
      "cell_type": "code",
      "execution_count": null,
      "metadata": {
        "colab": {
          "base_uri": "https://localhost:8080/",
          "height": 390
        },
        "id": "evk8EQzTvjId",
        "outputId": "9ecdbc84-a189-4936-97bb-77242367d646"
      },
      "outputs": [],
      "source": [
        "from sklearn.model_selection import train_test_split\n",
        "from sklearn.tree import DecisionTreeRegressor\n",
        "from sklearn.metrics import mean_squared_error\n",
        "\n",
        "# Assuming your data is stored in variables 'X_train', 'X_test', 'y_train', 'y_test'\n",
        "# X_train and X_test should contain the features (time_block, date, zipcode, traffic_volume)\n",
        "# y_train and y_test should contain the target variable (avg_travel_time)\n",
        "\n",
        "# Create the Decision Tree Regressor\n",
        "decision_tree = DecisionTreeRegressor(random_state=42)\n",
        "\n",
        "# Train the model\n",
        "decision_tree.fit(X_train, y_train)\n",
        "\n",
        "# Make predictions\n",
        "predictions = decision_tree.predict(X_test)\n",
        "\n",
        "# Evaluate the model\n",
        "mse = mean_squared_error(y_test, predictions)\n",
        "print(f\"Mean Squared Error: {mse}\")\n",
        "\n",
        "# If you want to visualize the decision tree (optional)\n",
        "from sklearn.tree import plot_tree\n",
        "import matplotlib.pyplot as plt\n",
        "\n",
        "plt.figure(figsize=(15, 10))\n",
        "plot_tree(decision_tree, filled=True, feature_names=['time_block', 'zipcode', 'traffic_volume'])\n",
        "plt.show()\n"
      ]
    },
    {
      "cell_type": "code",
      "execution_count": null,
      "metadata": {
        "id": "n2g3fK-Tv7JP"
      },
      "outputs": [],
      "source": [
        "import pandas as pd\n",
        "df=data\n",
        "# Assuming 'df' is your DataFrame containing the dataset\n",
        "df['date'] = pd.to_datetime(df['date'])\n",
        "df['year'] = df['date'].dt.year\n",
        "df['month'] = df['date'].dt.month\n",
        "df['day'] = df['date'].dt.day\n",
        "df['day_of_week'] = df['date'].dt.dayofweek  # Monday=0, Sunday=6\n",
        "\n",
        "# Drop the original 'date' column if it's not required anymore\n",
        "df.drop('date', axis=1, inplace=True)\n"
      ]
    },
    {
      "cell_type": "code",
      "execution_count": null,
      "metadata": {
        "colab": {
          "base_uri": "https://localhost:8080/"
        },
        "id": "WkKcunO3wRqk",
        "outputId": "e0c9e29b-c14f-4fcf-da6e-4b784754d7a4"
      },
      "outputs": [],
      "source": [
        "import pandas as pd\n",
        "from sklearn.model_selection import train_test_split\n",
        "from sklearn.tree import DecisionTreeRegressor\n",
        "from sklearn.metrics import mean_squared_error\n",
        "\n",
        "# # Assuming 'df' is your DataFrame containing the dataset\n",
        "# # Create new features from the 'date' column\n",
        "# df['date'] = pd.to_datetime(df['date'])\n",
        "# df['year'] = df['date'].dt.year\n",
        "# df['month'] = df['date'].dt.month\n",
        "# df['day'] = df['date'].dt.day\n",
        "# df['day_of_week'] = df['date'].dt.dayofweek  # Monday=0, Sunday=6\n",
        "# df.drop('date', axis=1, inplace=True)\n",
        "\n",
        "# # Define features and target variable\n",
        "# features = ['year', 'month', 'day', 'day_of_week', 'time_block', 'zipcode', 'traffic_volume']\n",
        "# target = 'avg_travel_time'\n",
        "df = df.dropna(subset=['traffic_volume'])\n",
        "\n",
        "features = ['time_block', 'zipcode',  'year', 'month', 'day', 'day_of_week']\n",
        "target = 'traffic_volume'\n",
        "\n",
        "# Splitting the data into training and testing sets\n",
        "X = df[features]\n",
        "y = df[target]\n",
        "X_train, X_test, y_train, y_test = train_test_split(X, y, test_size=0.2, random_state=42)\n",
        "\n",
        "# Create the Decision Tree Regressor\n",
        "decision_tree = DecisionTreeRegressor(random_state=100)\n",
        "\n",
        "# Train the model\n",
        "decision_tree.fit(X_train, y_train)\n",
        "\n",
        "# Make predictions\n",
        "predictions = decision_tree.predict(X_test)\n",
        "\n",
        "# Evaluate the model\n",
        "mse = mean_squared_error(y_test, predictions)\n",
        "print(f\"Mean Squared Error: {mse}\")\n"
      ]
    },
    {
      "cell_type": "code",
      "execution_count": null,
      "metadata": {
        "colab": {
          "base_uri": "https://localhost:8080/",
          "height": 366
        },
        "id": "qbLthb8BzjoR",
        "outputId": "b7fb9760-e46e-4f94-817a-5993f4a5c91d"
      },
      "outputs": [],
      "source": [
        "import matplotlib.pyplot as plt\n",
        "\n",
        "# Get feature importances\n",
        "feature_importances = clf.feature_importances_\n",
        "\n",
        "# Get feature names\n",
        "feature_names = X_train.columns\n",
        "\n",
        "# Create a bar plot\n",
        "plt.figure(figsize=(10, 6))\n",
        "plt.barh(range(len(feature_importances)), feature_importances, align='center', color='skyblue')\n",
        "plt.yticks(range(len(feature_importances)), feature_names)\n",
        "plt.xlabel('Feature Importance')\n",
        "plt.title('Feature Importances for Decision Tree Classifier')\n",
        "plt.gca().invert_yaxis()  # Invert y-axis to display the most important features at the top\n",
        "plt.show()\n"
      ]
    }
  ],
  "metadata": {
    "colab": {
      "provenance": []
    },
    "kernelspec": {
      "display_name": "Python 3",
      "name": "python3"
    },
    "language_info": {
      "codemirror_mode": {
        "name": "ipython",
        "version": 3
      },
      "file_extension": ".py",
      "mimetype": "text/x-python",
      "name": "python",
      "nbconvert_exporter": "python",
      "pygments_lexer": "ipython3",
      "version": "3.11.2"
    }
  },
  "nbformat": 4,
  "nbformat_minor": 0
}
